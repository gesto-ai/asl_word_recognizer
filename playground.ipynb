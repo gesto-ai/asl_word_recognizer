{
 "cells": [
  {
   "cell_type": "code",
   "execution_count": 3,
   "metadata": {},
   "outputs": [],
   "source": [
    "from model.inception3d import *"
   ]
  },
  {
   "cell_type": "code",
   "execution_count": 7,
   "metadata": {},
   "outputs": [],
   "source": [
    "# We'll use the weights from the general pre-trained inception model, then the weights for the fine tuned one on ASL\n",
    " # Download these from https://github.com/dxli94/WLASL#training-and-testing\n",
    "ID3_PRETRAINED_WEIGHTS_PATH = \"/Users/dafirebanks/Projects/GestoAI/models/WLASL/weights/rgb_imagenet.pt\"\n",
    "WLASL_PRETRAINED_WEIGHTS_PATH = \"/Users/dafirebanks/Projects/GestoAI/models/WLASL/archived/asl100/FINAL_nslt_100_iters=896_top1=65.89_top5=84.11_top10=89.92.pt\"\n",
    "NUM_CLASSES = 100\n",
    "\n",
    "def load_inception_model(device=0):\n",
    "    \"\"\"\n",
    "    Args:\n",
    "        device: int\n",
    "    Returns:\n",
    "        pretrained_i3d_model: InceptionI3d\n",
    "    \"\"\"\n",
    "    \n",
    "    # Initialize model\n",
    "    pretrained_i3d_model = InceptionI3d(400, in_channels=3)\n",
    "\n",
    "    # Load the general inception model weights\n",
    "    pretrained_i3d_model.load_state_dict(torch.load(ID3_PRETRAINED_WEIGHTS_PATH))\n",
    "\n",
    "    # Adapt the final layer for the number of classes we expect\n",
    "    pretrained_i3d_model.replace_logits(NUM_CLASSES)\n",
    "\n",
    "    # Load the weights for the fine-tuned model on ASL\n",
    "    pretrained_i3d_model.load_state_dict(torch.load(WLASL_PRETRAINED_WEIGHTS_PATH, map_location=torch.device('cpu')))\n",
    "\n",
    "    # Move to GPU\n",
    "    # i3d.cuda(device=device)\n",
    "\n",
    "    # Add data parallelism layer (but this is not actually that useful here since we're only using 1 example)\n",
    "    # pretrained_i3d_model = nn.DataParallel(pretrained_i3d_model)\n",
    "\n",
    "    # Put model in inference mode\n",
    "    pretrained_i3d_model.eval()\n",
    "\n",
    "    # pretrained_model = PL_resnet50.load_from_checkpoint(checkpoint_path=weight_loc).eval()#.cuda(device=0)\n",
    "    return pretrained_i3d_model\n"
   ]
  },
  {
   "cell_type": "code",
   "execution_count": 9,
   "metadata": {},
   "outputs": [
    {
     "ename": "NameError",
     "evalue": "name 'load_inception_model' is not defined",
     "output_type": "error",
     "traceback": [
      "\u001b[0;31m---------------------------------------------------------------------------\u001b[0m",
      "\u001b[0;31mNameError\u001b[0m                                 Traceback (most recent call last)",
      "\u001b[1;32m/Users/dafirebanks/Projects/GestoAI/model_serve/playground.ipynb Cell 3\u001b[0m in \u001b[0;36m<cell line: 1>\u001b[0;34m()\u001b[0m\n\u001b[0;32m----> <a href='vscode-notebook-cell:/Users/dafirebanks/Projects/GestoAI/model_serve/playground.ipynb#W2sZmlsZQ%3D%3D?line=0'>1</a>\u001b[0m pretrained_model \u001b[39m=\u001b[39m load_inception_model()\n",
      "\u001b[0;31mNameError\u001b[0m: name 'load_inception_model' is not defined"
     ]
    }
   ],
   "source": [
    "pretrained_model = load_inception_model()"
   ]
  },
  {
   "cell_type": "code",
   "execution_count": 10,
   "metadata": {},
   "outputs": [
    {
     "ename": "NameError",
     "evalue": "name 'pretrained_model' is not defined",
     "output_type": "error",
     "traceback": [
      "\u001b[0;31m---------------------------------------------------------------------------\u001b[0m",
      "\u001b[0;31mNameError\u001b[0m                                 Traceback (most recent call last)",
      "\u001b[1;32m/Users/dafirebanks/Projects/GestoAI/model_serve/playground.ipynb Cell 4\u001b[0m in \u001b[0;36m<cell line: 1>\u001b[0;34m()\u001b[0m\n\u001b[0;32m----> <a href='vscode-notebook-cell:/Users/dafirebanks/Projects/GestoAI/model_serve/playground.ipynb#W3sZmlsZQ%3D%3D?line=0'>1</a>\u001b[0m pretrained_model\n",
      "\u001b[0;31mNameError\u001b[0m: name 'pretrained_model' is not defined"
     ]
    }
   ],
   "source": [
    "pretrained_model"
   ]
  },
  {
   "cell_type": "code",
   "execution_count": 11,
   "metadata": {},
   "outputs": [
    {
     "ename": "NameError",
     "evalue": "name 'pretrained_model' is not defined",
     "output_type": "error",
     "traceback": [
      "\u001b[0;31m---------------------------------------------------------------------------\u001b[0m",
      "\u001b[0;31mNameError\u001b[0m                                 Traceback (most recent call last)",
      "\u001b[1;32m/Users/dafirebanks/Projects/GestoAI/model_serve/playground.ipynb Cell 5\u001b[0m in \u001b[0;36m<cell line: 1>\u001b[0;34m()\u001b[0m\n\u001b[0;32m----> <a href='vscode-notebook-cell:/Users/dafirebanks/Projects/GestoAI/model_serve/playground.ipynb#W4sZmlsZQ%3D%3D?line=0'>1</a>\u001b[0m scripted_model \u001b[39m=\u001b[39m torch\u001b[39m.\u001b[39mjit\u001b[39m.\u001b[39mscript(pretrained_model)\n",
      "\u001b[0;31mNameError\u001b[0m: name 'pretrained_model' is not defined"
     ]
    }
   ],
   "source": [
    "scripted_model = torch.jit.script(pretrained_model)"
   ]
  },
  {
   "cell_type": "code",
   "execution_count": 14,
   "metadata": {},
   "outputs": [],
   "source": [
    "pretrained_i3d_model = InceptionI3d(400, in_channels=3)"
   ]
  },
  {
   "cell_type": "code",
   "execution_count": 17,
   "metadata": {},
   "outputs": [
    {
     "ename": "TypeError",
     "evalue": "trace() missing 1 required positional argument: 'example_inputs'",
     "output_type": "error",
     "traceback": [
      "\u001b[0;31m---------------------------------------------------------------------------\u001b[0m",
      "\u001b[0;31mTypeError\u001b[0m                                 Traceback (most recent call last)",
      "\u001b[1;32m/Users/dafirebanks/Projects/GestoAI/model_serve/playground.ipynb Cell 7\u001b[0m in \u001b[0;36m<cell line: 1>\u001b[0;34m()\u001b[0m\n\u001b[0;32m----> <a href='vscode-notebook-cell:/Users/dafirebanks/Projects/GestoAI/model_serve/playground.ipynb#W6sZmlsZQ%3D%3D?line=0'>1</a>\u001b[0m sm \u001b[39m=\u001b[39m torch\u001b[39m.\u001b[39;49mjit\u001b[39m.\u001b[39;49mtrace(pretrained_i3d_model)\n",
      "\u001b[0;31mTypeError\u001b[0m: trace() missing 1 required positional argument: 'example_inputs'"
     ]
    }
   ],
   "source": [
    "sm = torch.jit.trace(pretrained_i3d_model)"
   ]
  },
  {
   "cell_type": "code",
   "execution_count": null,
   "metadata": {},
   "outputs": [],
   "source": []
  }
 ],
 "metadata": {
  "kernelspec": {
   "display_name": "Python 3.9.13 ('py39_cv')",
   "language": "python",
   "name": "python3"
  },
  "language_info": {
   "codemirror_mode": {
    "name": "ipython",
    "version": 3
   },
   "file_extension": ".py",
   "mimetype": "text/x-python",
   "name": "python",
   "nbconvert_exporter": "python",
   "pygments_lexer": "ipython3",
   "version": "3.9.13"
  },
  "orig_nbformat": 4,
  "vscode": {
   "interpreter": {
    "hash": "0023acb2ec2174c86f240a993cac4f20a41b9b47f90e047c4191042ad52a9641"
   }
  }
 },
 "nbformat": 4,
 "nbformat_minor": 2
}
